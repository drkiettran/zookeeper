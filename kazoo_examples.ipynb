{
 "cells": [
  {
   "cell_type": "markdown",
   "metadata": {},
   "source": [
    "# ZooKeeper programming with kazoo\n",
    "\n",
    "Make sure to run zookeeper server:\n",
    "\n",
    "```bash\n",
    "cd ~/dev/zookeeper\n",
    "./bin/zkServer.sh start\n",
    "```\n",
    "\n",
    "To stop server:\n",
    "\n",
    "```bash\n",
    "./bin/zkServer.sh stop\n",
    "```\n",
    "\n",
    "Make sure to install kazoo\n",
    "\n",
    "```bash\n",
    "pip3 install kazoo\n",
    "```\n",
    "\n",
    "Supported Operations:\n",
    "\n",
    "\n",
    "- **create** : creates a node at a location in the tree\n",
    "- **delete** : deletes a node\n",
    "- **exists** : tests if a node exists at a location\n",
    "- **get data** : reads the data from a node\n",
    "- **set data** : writes data to a node\n",
    "- **get children** : retrieves a list of children of a node\n",
    "- **sync** : waits for data to be propagated\n"
   ]
  },
  {
   "cell_type": "code",
   "execution_count": 7,
   "metadata": {},
   "outputs": [],
   "source": [
    "from kazoo.client import KazooClient\n"
   ]
  },
  {
   "cell_type": "code",
   "execution_count": 8,
   "metadata": {},
   "outputs": [],
   "source": [
    "zk = KazooClient(hosts='127.0.0.1:2181')\n",
    "zk.start()"
   ]
  },
  {
   "cell_type": "markdown",
   "metadata": {},
   "source": [
    "## get_children\n",
    "\n",
    "`zkCli.sh: ls '/'`"
   ]
  },
  {
   "cell_type": "code",
   "execution_count": 10,
   "metadata": {},
   "outputs": [
    {
     "name": "stdout",
     "output_type": "stream",
     "text": [
      "/ : ['zookeeper']\n",
      "/zookeeper : ['config', 'quota']\n"
     ]
    }
   ],
   "source": [
    "root_znode = '/'\n",
    "root = zk.get_children(root_znode)\n",
    "print(root_znode, ':', root)\n",
    "\n",
    "zookeeper_znode = '/zookeeper'\n",
    "zookeeper = zk.get_children(zookeeper_znode)\n",
    "print(zookeeper_znode, ':', zookeeper)"
   ]
  },
  {
   "cell_type": "markdown",
   "metadata": {},
   "source": [
    "## get_data, exists & delete\n",
    "\n",
    "```bash\n",
    "ls /zookeeper\n",
    "get -s /zookeeper\n",
    "create /zk_test 'a test znode'\n",
    "delete /zk_test\n",
    "```\n"
   ]
  },
  {
   "cell_type": "code",
   "execution_count": 12,
   "metadata": {},
   "outputs": [
    {
     "name": "stdout",
     "output_type": "stream",
     "text": [
      "/ : (b'my-root-node', ZnodeStat(czxid=0, mzxid=41, ctime=0, mtime=1596540174394, version=1, cversion=14, aversion=0, ephemeralOwner=0, dataLength=12, numChildren=2, pzxid=120))\n",
      "\n",
      " /zookeeper : (b'', ZnodeStat(czxid=0, mzxid=0, ctime=0, mtime=0, version=0, cversion=-2, aversion=0, ephemeralOwner=0, dataLength=0, numChildren=2, pzxid=0))\n",
      "/zk_test exists\n",
      "\n",
      " /zk_test (b'a test znode', ZnodeStat(czxid=122, mzxid=122, ctime=1596582746343, mtime=1596582746343, version=0, cversion=0, aversion=0, ephemeralOwner=0, dataLength=12, numChildren=0, pzxid=122))\n"
     ]
    }
   ],
   "source": [
    "root_data = zk.get(root_znode)\n",
    "print(root_znode, ':', root_data)\n",
    "\n",
    "zookeeper_data = zk.get(zookeeper_znode)\n",
    "print('\\n', zookeeper_znode, ':', zookeeper_data)\n",
    "\n",
    "zk_test_znode = '/zk_test'\n",
    "zk_test_data = b'a test znode'\n",
    "\n",
    "if zk.exists(zk_test_znode):\n",
    "    print(zk_test_znode, 'exists')\n",
    "    zk.delete(zk_test_znode)\n",
    "else:\n",
    "    print(zk_test_znode, 'not exist')\n",
    "    \n",
    "zk.create(zk_test_znode, zk_test_data)\n",
    "zk_test = zk.get(zk_test_znode)\n",
    "\n",
    "print('\\n', zk_test_znode, zk_test)"
   ]
  },
  {
   "cell_type": "code",
   "execution_count": 14,
   "metadata": {},
   "outputs": [
    {
     "name": "stdout",
     "output_type": "stream",
     "text": [
      "ZnodeStat(czxid=122, mzxid=122, ctime=1596582746343, mtime=1596582746343, version=0, cversion=0, aversion=0, ephemeralOwner=0, dataLength=12, numChildren=0, pzxid=122)\n"
     ]
    }
   ],
   "source": [
    "print(zk.exists(zk_test_znode))"
   ]
  },
  {
   "cell_type": "code",
   "execution_count": 15,
   "metadata": {},
   "outputs": [
    {
     "name": "stdout",
     "output_type": "stream",
     "text": [
      "(b'', ZnodeStat(czxid=0, mzxid=0, ctime=0, mtime=0, version=0, cversion=-2, aversion=0, ephemeralOwner=0, dataLength=0, numChildren=2, pzxid=0))\n"
     ]
    }
   ],
   "source": [
    "print(zk.get(zookeeper_znode))"
   ]
  },
  {
   "cell_type": "markdown",
   "metadata": {},
   "source": [
    "## set\n",
    "\n",
    "```bash\n",
    "set /zk_test 'new data on znode'\n",
    "```"
   ]
  },
  {
   "cell_type": "code",
   "execution_count": 16,
   "metadata": {},
   "outputs": [
    {
     "name": "stdout",
     "output_type": "stream",
     "text": [
      "\n",
      " /zk_test (b'new data on znode', ZnodeStat(czxid=122, mzxid=126, ctime=1596582746343, mtime=1596582917931, version=1, cversion=0, aversion=0, ephemeralOwner=0, dataLength=17, numChildren=0, pzxid=122))\n"
     ]
    }
   ],
   "source": [
    "zk.set(zk_test_znode, b'new data on znode')\n",
    "zk_test = zk.get(zk_test_znode)\n",
    "\n",
    "print('\\n', zk_test_znode, zk_test)"
   ]
  },
  {
   "cell_type": "code",
   "execution_count": null,
   "metadata": {},
   "outputs": [],
   "source": []
  }
 ],
 "metadata": {
  "kernelspec": {
   "display_name": "Python 3",
   "language": "python",
   "name": "python3"
  },
  "language_info": {
   "codemirror_mode": {
    "name": "ipython",
    "version": 3
   },
   "file_extension": ".py",
   "mimetype": "text/x-python",
   "name": "python",
   "nbconvert_exporter": "python",
   "pygments_lexer": "ipython3",
   "version": "3.6.9"
  }
 },
 "nbformat": 4,
 "nbformat_minor": 2
}
